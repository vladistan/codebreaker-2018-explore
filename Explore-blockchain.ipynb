{
 "cells": [
  {
   "cell_type": "markdown",
   "metadata": {},
   "source": [
    "# Explore Codebreaker 2018 Blockchain\n",
    "\n",
    "This notebook can be used to poke around CodeBreaker-2018 blockchain.\n"
   ]
  },
  {
   "cell_type": "markdown",
   "metadata": {},
   "source": [
    "## Initial setup\n",
    "\n",
    "Let's import some libraries"
   ]
  },
  {
   "cell_type": "code",
   "execution_count": 1,
   "metadata": {
    "collapsed": true
   },
   "outputs": [],
   "source": [
    "import json\n",
    "import os\n",
    "\n",
    "from web3 import Web3\n",
    "from solc import compile_source\n",
    "from web3.contract import ConciseContract\n",
    "import urllib3\n",
    "urllib3.disable_warnings(urllib3.exceptions.InsecureRequestWarning)\n",
    "import pandas as pd\n",
    "import urllib\n",
    "from datetime import datetime"
   ]
  },
  {
   "cell_type": "markdown",
   "metadata": {},
   "source": [
    "## Settings"
   ]
  },
  {
   "cell_type": "code",
   "execution_count": 2,
   "metadata": {
    "collapsed": true
   },
   "outputs": [],
   "source": [
    "url = 'https://codebreaker.ltsnet.net/eth/8e415a1477b0a587/d6389b319e1a35111021d019d0a494158dab3c2308a0a8a21cec8124270c766b'\n"
   ]
  },
  {
   "cell_type": "markdown",
   "metadata": {},
   "source": [
    "Is everything OK?"
   ]
  },
  {
   "cell_type": "code",
   "execution_count": 3,
   "metadata": {},
   "outputs": [
    {
     "data": {
      "text/plain": [
       "True"
      ]
     },
     "execution_count": 3,
     "metadata": {},
     "output_type": "execute_result"
    }
   ],
   "source": [
    "web3 = Web3(Web3.HTTPProvider(url, request_kwargs={'verify':False}))\n",
    "web3.isConnected()"
   ]
  },
  {
   "cell_type": "markdown",
   "metadata": {},
   "source": [
    "Let's define some useful functions"
   ]
  },
  {
   "cell_type": "code",
   "execution_count": 4,
   "metadata": {
    "collapsed": true
   },
   "outputs": [],
   "source": [
    "def load_contract(w3, name):   # Load compiled contract\n",
    "    location = compiled_contracts[name]\n",
    "    with urllib.request.urlopen(location) as url:\n",
    "        info = json.loads(url.read().decode())\n",
    "        return w3.eth.contract(abi=info['abi'], bytecode=info['bytecode'])\n",
    "    \n",
    "def htoeth(bal):   # Convert hext to ether amount\n",
    "    return int(bal.hex(),16)/(10**18)\n",
    "\n",
    "def addr(hb_val):  # Convert hex value to checksumed address\n",
    "    return chksum(hb_val.hex()[-40:])"
   ]
  },
  {
   "cell_type": "markdown",
   "metadata": {},
   "source": [
    "Some shortcuts"
   ]
  },
  {
   "cell_type": "code",
   "execution_count": 5,
   "metadata": {
    "collapsed": true
   },
   "outputs": [],
   "source": [
    "w3 = web3\n",
    "eth = web3.eth\n",
    "gb = eth.getBalance\n",
    "gs = eth.getStorageAt\n",
    "chksum = w3.toChecksumAddress"
   ]
  },
  {
   "cell_type": "markdown",
   "metadata": {},
   "source": [
    "We also going to need compiled versions of the ethereum smart contracts given to us"
   ]
  },
  {
   "cell_type": "code",
   "execution_count": 6,
   "metadata": {},
   "outputs": [],
   "source": [
    "compiled_contracts = {\n",
    "'ransom' : 'http://bit.ly/2Cgac0z',\n",
    "'escrow' : 'http://bit.ly/2shvare',\n",
    "'registry' : 'http://bit.ly/2RBBAjl'\n",
    "}        "
   ]
  },
  {
   "cell_type": "markdown",
   "metadata": {},
   "source": [
    "# Chain Info\n",
    "Now we should be able to get basic info from the chain"
   ]
  },
  {
   "cell_type": "code",
   "execution_count": 7,
   "metadata": {},
   "outputs": [
    {
     "data": {
      "text/plain": [
       "1922232"
      ]
     },
     "execution_count": 7,
     "metadata": {},
     "output_type": "execute_result"
    }
   ],
   "source": [
    "w3.eth.blockNumber"
   ]
  },
  {
   "cell_type": "code",
   "execution_count": 8,
   "metadata": {},
   "outputs": [
    {
     "data": {
      "text/plain": [
       "1.0"
      ]
     },
     "execution_count": 8,
     "metadata": {},
     "output_type": "execute_result"
    }
   ],
   "source": [
    "w3.eth.gasPrice/(10**9)"
   ]
  },
  {
   "cell_type": "markdown",
   "metadata": {},
   "source": [
    "It's nice that Python supports big number natively, so we don't need to resort to the uglines of BigNumber.js"
   ]
  },
  {
   "cell_type": "markdown",
   "metadata": {},
   "source": [
    "# Constants\n",
    "\n",
    "Let's enter some constants given to us and create placeholder variables for some more"
   ]
  },
  {
   "cell_type": "code",
   "execution_count": 9,
   "metadata": {
    "collapsed": true
   },
   "outputs": [],
   "source": [
    "# Accounts\n",
    "owner=None\n",
    "oracle=None\n",
    "victim=\"0xc09812b25cbeBC4D688696e541Ce5E8C410380BF\"\n",
    "\n",
    "# Contracts\n",
    "registry=None\n",
    "escrow=\"0x2268A64F65318bCDdFef1A799c61c1E3073FeDa5\"\n",
    "ransom=\"0xc09812b25cbeBC4D688696e541Ce5E8C410380BF\"\n",
    "\n",
    "myCID = \"0xb784c8325a15d7b7d62d4ded79b86b08fd0cbc8ed0099fee200b55ef8791eae6\""
   ]
  },
  {
   "cell_type": "markdown",
   "metadata": {},
   "source": [
    "# Escrow contract examination\n",
    "\n",
    "Let's examine the internal state of Escrow contract"
   ]
  },
  {
   "cell_type": "code",
   "execution_count": 10,
   "metadata": {},
   "outputs": [
    {
     "data": {
      "text/plain": [
       "'0x63D85378Eb4D57C4aE14f6a39B05e495dE08B1a8'"
      ]
     },
     "execution_count": 10,
     "metadata": {},
     "output_type": "execute_result"
    }
   ],
   "source": [
    "owner = addr(gs(escrow, 0))  # Owner address\n",
    "owner"
   ]
  },
  {
   "cell_type": "code",
   "execution_count": 11,
   "metadata": {},
   "outputs": [
    {
     "data": {
      "text/plain": [
       "9.999999999999982e+17"
      ]
     },
     "execution_count": 11,
     "metadata": {},
     "output_type": "execute_result"
    }
   ],
   "source": [
    "ownerBal = gb(owner)/(10**18) # Owner Ethereum wallet balance\n",
    "ownerBal"
   ]
  },
  {
   "cell_type": "code",
   "execution_count": 12,
   "metadata": {},
   "outputs": [
    {
     "data": {
      "text/plain": [
       "300.0"
      ]
     },
     "execution_count": 12,
     "metadata": {},
     "output_type": "execute_result"
    }
   ],
   "source": [
    "escrowOwnerBal = gs(escrow, 1)  # How much ether owner can withdraw\n",
    "escrowOwnerBal = htoeth(escrowOwnerBal)\n",
    "escrowOwnerBal"
   ]
  },
  {
   "cell_type": "code",
   "execution_count": 13,
   "metadata": {},
   "outputs": [
    {
     "data": {
      "text/plain": [
       "300.0"
      ]
     },
     "execution_count": 13,
     "metadata": {},
     "output_type": "execute_result"
    }
   ],
   "source": [
    "escrowContractBal = gb(escrow)/(10**18) # How much does ether does Escrow contract holds\n",
    "escrowContractBal"
   ]
  },
  {
   "cell_type": "code",
   "execution_count": 14,
   "metadata": {},
   "outputs": [
    {
     "data": {
      "text/plain": [
       "'0x6b4e1E0755a93C6B60851dC72f4E32fa18ac6828'"
      ]
     },
     "execution_count": 14,
     "metadata": {},
     "output_type": "execute_result"
    }
   ],
   "source": [
    "registry = addr(gs(escrow, 2)) # What's Registry address\n",
    "registry"
   ]
  },
  {
   "cell_type": "code",
   "execution_count": 15,
   "metadata": {},
   "outputs": [
    {
     "data": {
      "text/plain": [
       "'0x191B13d28Df6b574275405e485dfC0F6794AD831'"
      ]
     },
     "execution_count": 15,
     "metadata": {},
     "output_type": "execute_result"
    }
   ],
   "source": [
    "oracle = addr(gs(escrow,10))  # What's oracle address\n",
    "oracle"
   ]
  },
  {
   "cell_type": "markdown",
   "metadata": {},
   "source": [
    "### All known ransom contracts\n",
    "\n",
    "Now lets' enumerate all Ransom contracts that Escrow knows about"
   ]
  },
  {
   "cell_type": "code",
   "execution_count": 16,
   "metadata": {},
   "outputs": [
    {
     "data": {
      "text/plain": [
       "['0xBC8794A37A428b86542A587c047A01cd18B9D826',\n",
       " '0xc6dE5B74d100168Bf368F63fd1cfd0B46B2A8772',\n",
       " '0x049515Ef597Ce9F2237eCB3Fa9c15bFad2BCAd90',\n",
       " '0xA6D7FF4A4e4480c009c32F28981a8ac64943c006',\n",
       " '0x592cbD96f1209Da30518110ec036F864Eeed0C4D',\n",
       " '0xd95028DdB9bef50b78256D9053CBdB92cCe9fEeA',\n",
       " '0x71480981B2FaE54c5430Ba69bCBB41496a879C84',\n",
       " '0xdC782dBd6aAB2BE81f884F81130Cf70Cc3bDEcb6',\n",
       " '0xc188D7c8FE22D73c014cE57DBa6096fEa419ABC2',\n",
       " '0xc09812b25cbeBC4D688696e541Ce5E8C410380BF']"
      ]
     },
     "execution_count": 16,
     "metadata": {},
     "output_type": "execute_result"
    }
   ],
   "source": [
    "index = \"%064x\" % 9\n",
    "index = web3.sha3(hexstr=index)\n",
    "ransoms = [addr(gs(escrow,int(index.hex(),16)+i)) for i in range(0,10)]\n",
    "ransoms"
   ]
  },
  {
   "cell_type": "markdown",
   "metadata": {},
   "source": [
    "### Victim IDs\n",
    "\n",
    "We got all Ransom contract addresses we can now get the victim IDs"
   ]
  },
  {
   "cell_type": "code",
   "execution_count": 17,
   "metadata": {},
   "outputs": [
    {
     "data": {
      "text/plain": [
       "['0x739f2fbe73b39319a3b582b6f1ea6f85a5b97f9e385961c06e7e0c8b6c124f1f',\n",
       " '0x8d4e739e63b58576664c5b2ecd068e59322bb6109629b5798795bafdb1e14c9f',\n",
       " '0x593a32f34377c6e4bb1b737a349bb9d73ab1200ff74885dee59170cb88319056',\n",
       " '0xd37dc467c8f40f2fd6892604e7cfd0aa1020d7bf86e153f435c99636b11c24a8',\n",
       " '0xa059db461066052570e661a54d0bd5613b0244bfc94fa2c88a92bab76576e557',\n",
       " '0xdcde9c6864cc9ff032253750917ae807fd67eda94b1e9a8029fa4abd10f9cda6',\n",
       " '0x8de57837b523d2dd8c0f4e5ee1fda7e976ea9eeb171ff80297aa6ba9ff41158f',\n",
       " '0x671538f3cbb58f0d532f24498241e019eeabc1fead783cf9565b635cf1241008',\n",
       " '0xd0f2495ba15d13f347b5bb4f45650d843f64d213b1d4122698c2c29c6086c6da',\n",
       " '0x58cc997ff6b6cff27c6dd2270709913a63d0be99ce40b0bbd78266cd02c95d8f']"
      ]
     },
     "execution_count": 17,
     "metadata": {},
     "output_type": "execute_result"
    }
   ],
   "source": [
    "vic_ids = []\n",
    "for rr in ransoms:\n",
    "    index = \"%064x\" % 6\n",
    "    r = rr[2:].lower()\n",
    "    index = ('0' * 24) + r + index\n",
    "    index = web3.sha3(hexstr=index)\n",
    "    vic_id = gs(escrow,int(index.hex(),16))\n",
    "    vic_ids.append(vic_id.hex())\n",
    "vic_ids"
   ]
  },
  {
   "cell_type": "markdown",
   "metadata": {},
   "source": [
    "### Who paid\n",
    "\n",
    "Now let's see who paid"
   ]
  },
  {
   "cell_type": "code",
   "execution_count": 18,
   "metadata": {},
   "outputs": [
    {
     "data": {
      "text/plain": [
       "{'0x739f2fbe73b39319a3b582b6f1ea6f85a5b97f9e385961c06e7e0c8b6c124f1f': '0xa411DF1aE52E324cb3A123bf4888233024926CFd',\n",
       " '0x8de57837b523d2dd8c0f4e5ee1fda7e976ea9eeb171ff80297aa6ba9ff41158f': '0xfACc57958A577003EADA8b8Ff9794FC1535D38dC',\n",
       " '0xd37dc467c8f40f2fd6892604e7cfd0aa1020d7bf86e153f435c99636b11c24a8': '0xfcECA7d3bF63D243fc885B8f53526Ff5ed891eb4'}"
      ]
     },
     "execution_count": 18,
     "metadata": {},
     "output_type": "execute_result"
    }
   ],
   "source": [
    "vic_paid_addr = {}\n",
    "for vv in vic_ids:\n",
    "    index = \"%064x\" % 3\n",
    "    index = vv[2:] + index\n",
    "    index = web3.sha3(hexstr=index)\n",
    "    paid = gs(escrow,int(index.hex(),16))\n",
    "    if(int(paid.hex(),16) != 0):\n",
    "        vic_paid_addr[vv] = addr(paid)\n",
    "vic_paid_addr"
   ]
  },
  {
   "cell_type": "markdown",
   "metadata": {},
   "source": [
    "### Let's put it all together\n",
    "\n",
    "And now let's dump 'victim information table' from the Escrow contract"
   ]
  },
  {
   "cell_type": "code",
   "execution_count": 19,
   "metadata": {},
   "outputs": [
    {
     "data": {
      "text/html": [
       "<div>\n",
       "<table border=\"1\" class=\"dataframe\">\n",
       "  <thead>\n",
       "    <tr style=\"text-align: right;\">\n",
       "      <th></th>\n",
       "      <th>victim_addr</th>\n",
       "      <th>ransom_amt</th>\n",
       "      <th>ransom_addr</th>\n",
       "    </tr>\n",
       "  </thead>\n",
       "  <tbody>\n",
       "    <tr>\n",
       "      <th>0x58cc997ff6b6cff27c6dd2270709913a63d0be99ce40b0bbd78266cd02c95d8f</th>\n",
       "      <td>0x27cBF212B3de98719bC5FB682bB0f8383e8177E4</td>\n",
       "      <td>100.0</td>\n",
       "      <td>0xc09812b25cbeBC4D688696e541Ce5E8C410380BF</td>\n",
       "    </tr>\n",
       "    <tr>\n",
       "      <th>0x593a32f34377c6e4bb1b737a349bb9d73ab1200ff74885dee59170cb88319056</th>\n",
       "      <td>0xd8742509518b95183CFf255E38A5a0685C1FBf52</td>\n",
       "      <td>100.0</td>\n",
       "      <td>0x049515Ef597Ce9F2237eCB3Fa9c15bFad2BCAd90</td>\n",
       "    </tr>\n",
       "    <tr>\n",
       "      <th>0x671538f3cbb58f0d532f24498241e019eeabc1fead783cf9565b635cf1241008</th>\n",
       "      <td>0x50AF09c4820c8f29E7c13E524d4AE62c11C364b7</td>\n",
       "      <td>100.0</td>\n",
       "      <td>0xdC782dBd6aAB2BE81f884F81130Cf70Cc3bDEcb6</td>\n",
       "    </tr>\n",
       "    <tr>\n",
       "      <th>0x739f2fbe73b39319a3b582b6f1ea6f85a5b97f9e385961c06e7e0c8b6c124f1f</th>\n",
       "      <td>0xa411DF1aE52E324cb3A123bf4888233024926CFd</td>\n",
       "      <td>100.0</td>\n",
       "      <td>0xBC8794A37A428b86542A587c047A01cd18B9D826</td>\n",
       "    </tr>\n",
       "    <tr>\n",
       "      <th>0x8d4e739e63b58576664c5b2ecd068e59322bb6109629b5798795bafdb1e14c9f</th>\n",
       "      <td>0x5156262D2a917bB2856D6164d67BcF12dc1ABd5B</td>\n",
       "      <td>100.0</td>\n",
       "      <td>0xc6dE5B74d100168Bf368F63fd1cfd0B46B2A8772</td>\n",
       "    </tr>\n",
       "    <tr>\n",
       "      <th>0x8de57837b523d2dd8c0f4e5ee1fda7e976ea9eeb171ff80297aa6ba9ff41158f</th>\n",
       "      <td>0xfACc57958A577003EADA8b8Ff9794FC1535D38dC</td>\n",
       "      <td>100.0</td>\n",
       "      <td>0x71480981B2FaE54c5430Ba69bCBB41496a879C84</td>\n",
       "    </tr>\n",
       "    <tr>\n",
       "      <th>0xa059db461066052570e661a54d0bd5613b0244bfc94fa2c88a92bab76576e557</th>\n",
       "      <td>0xA72e9A9Bd21aA74C8857625CfC0C9082d477d6Fa</td>\n",
       "      <td>100.0</td>\n",
       "      <td>0x592cbD96f1209Da30518110ec036F864Eeed0C4D</td>\n",
       "    </tr>\n",
       "    <tr>\n",
       "      <th>0xd0f2495ba15d13f347b5bb4f45650d843f64d213b1d4122698c2c29c6086c6da</th>\n",
       "      <td>0x146676783d93d8b7CFd3AF243B74dd406f38EcD4</td>\n",
       "      <td>100.0</td>\n",
       "      <td>0xc188D7c8FE22D73c014cE57DBa6096fEa419ABC2</td>\n",
       "    </tr>\n",
       "    <tr>\n",
       "      <th>0xd37dc467c8f40f2fd6892604e7cfd0aa1020d7bf86e153f435c99636b11c24a8</th>\n",
       "      <td>0xfcECA7d3bF63D243fc885B8f53526Ff5ed891eb4</td>\n",
       "      <td>100.0</td>\n",
       "      <td>0xA6D7FF4A4e4480c009c32F28981a8ac64943c006</td>\n",
       "    </tr>\n",
       "    <tr>\n",
       "      <th>0xdcde9c6864cc9ff032253750917ae807fd67eda94b1e9a8029fa4abd10f9cda6</th>\n",
       "      <td>0xd8b09121DF17d2C622E47c1C83D8022bc4a66A5D</td>\n",
       "      <td>100.0</td>\n",
       "      <td>0xd95028DdB9bef50b78256D9053CBdB92cCe9fEeA</td>\n",
       "    </tr>\n",
       "  </tbody>\n",
       "</table>\n",
       "</div>"
      ],
      "text/plain": [
       "                                                                                   victim_addr  \\\n",
       "0x58cc997ff6b6cff27c6dd2270709913a63d0be99ce40b...  0x27cBF212B3de98719bC5FB682bB0f8383e8177E4   \n",
       "0x593a32f34377c6e4bb1b737a349bb9d73ab1200ff7488...  0xd8742509518b95183CFf255E38A5a0685C1FBf52   \n",
       "0x671538f3cbb58f0d532f24498241e019eeabc1fead783...  0x50AF09c4820c8f29E7c13E524d4AE62c11C364b7   \n",
       "0x739f2fbe73b39319a3b582b6f1ea6f85a5b97f9e38596...  0xa411DF1aE52E324cb3A123bf4888233024926CFd   \n",
       "0x8d4e739e63b58576664c5b2ecd068e59322bb6109629b...  0x5156262D2a917bB2856D6164d67BcF12dc1ABd5B   \n",
       "0x8de57837b523d2dd8c0f4e5ee1fda7e976ea9eeb171ff...  0xfACc57958A577003EADA8b8Ff9794FC1535D38dC   \n",
       "0xa059db461066052570e661a54d0bd5613b0244bfc94fa...  0xA72e9A9Bd21aA74C8857625CfC0C9082d477d6Fa   \n",
       "0xd0f2495ba15d13f347b5bb4f45650d843f64d213b1d41...  0x146676783d93d8b7CFd3AF243B74dd406f38EcD4   \n",
       "0xd37dc467c8f40f2fd6892604e7cfd0aa1020d7bf86e15...  0xfcECA7d3bF63D243fc885B8f53526Ff5ed891eb4   \n",
       "0xdcde9c6864cc9ff032253750917ae807fd67eda94b1e9...  0xd8b09121DF17d2C622E47c1C83D8022bc4a66A5D   \n",
       "\n",
       "                                                    ransom_amt  \\\n",
       "0x58cc997ff6b6cff27c6dd2270709913a63d0be99ce40b...       100.0   \n",
       "0x593a32f34377c6e4bb1b737a349bb9d73ab1200ff7488...       100.0   \n",
       "0x671538f3cbb58f0d532f24498241e019eeabc1fead783...       100.0   \n",
       "0x739f2fbe73b39319a3b582b6f1ea6f85a5b97f9e38596...       100.0   \n",
       "0x8d4e739e63b58576664c5b2ecd068e59322bb6109629b...       100.0   \n",
       "0x8de57837b523d2dd8c0f4e5ee1fda7e976ea9eeb171ff...       100.0   \n",
       "0xa059db461066052570e661a54d0bd5613b0244bfc94fa...       100.0   \n",
       "0xd0f2495ba15d13f347b5bb4f45650d843f64d213b1d41...       100.0   \n",
       "0xd37dc467c8f40f2fd6892604e7cfd0aa1020d7bf86e15...       100.0   \n",
       "0xdcde9c6864cc9ff032253750917ae807fd67eda94b1e9...       100.0   \n",
       "\n",
       "                                                                                   ransom_addr  \n",
       "0x58cc997ff6b6cff27c6dd2270709913a63d0be99ce40b...  0xc09812b25cbeBC4D688696e541Ce5E8C410380BF  \n",
       "0x593a32f34377c6e4bb1b737a349bb9d73ab1200ff7488...  0x049515Ef597Ce9F2237eCB3Fa9c15bFad2BCAd90  \n",
       "0x671538f3cbb58f0d532f24498241e019eeabc1fead783...  0xdC782dBd6aAB2BE81f884F81130Cf70Cc3bDEcb6  \n",
       "0x739f2fbe73b39319a3b582b6f1ea6f85a5b97f9e38596...  0xBC8794A37A428b86542A587c047A01cd18B9D826  \n",
       "0x8d4e739e63b58576664c5b2ecd068e59322bb6109629b...  0xc6dE5B74d100168Bf368F63fd1cfd0B46B2A8772  \n",
       "0x8de57837b523d2dd8c0f4e5ee1fda7e976ea9eeb171ff...  0x71480981B2FaE54c5430Ba69bCBB41496a879C84  \n",
       "0xa059db461066052570e661a54d0bd5613b0244bfc94fa...  0x592cbD96f1209Da30518110ec036F864Eeed0C4D  \n",
       "0xd0f2495ba15d13f347b5bb4f45650d843f64d213b1d41...  0xc188D7c8FE22D73c014cE57DBa6096fEa419ABC2  \n",
       "0xd37dc467c8f40f2fd6892604e7cfd0aa1020d7bf86e15...  0xA6D7FF4A4e4480c009c32F28981a8ac64943c006  \n",
       "0xdcde9c6864cc9ff032253750917ae807fd67eda94b1e9...  0xd95028DdB9bef50b78256D9053CBdB92cCe9fEeA  "
      ]
     },
     "execution_count": 19,
     "metadata": {},
     "output_type": "execute_result"
    }
   ],
   "source": [
    "vic_map = {}\n",
    "for vv in vic_ids:\n",
    "    index = \"%064x\" % 4\n",
    "    index = vv[2:] + index\n",
    "    index = web3.sha3(hexstr=index)\n",
    "    mmb = [gs(escrow,int(index.hex(),16)+i) for i in range(0,4)]\n",
    "    mmb = (mmb[0].hex(),int(mmb[1].hex(),16)/(10**18),addr(mmb[2]),addr(mmb[3]))\n",
    "    vic_map[mmb[0]] = {'ransom_amt':mmb[1],'victim_addr':mmb[2],'ransom_addr':mmb[3]}\n",
    "vic_map\n",
    "vic_map_df = pd.DataFrame.from_dict(vic_map,orient='index')\n",
    "vic_map_df"
   ]
  },
  {
   "cell_type": "markdown",
   "metadata": {},
   "source": [
    "### Reveal decryption keys\n",
    "\n",
    "Now let's take a look at the decryption keys sent by the oracle in response to the valid ransom payment"
   ]
  },
  {
   "cell_type": "code",
   "execution_count": 20,
   "metadata": {},
   "outputs": [
    {
     "data": {
      "text/plain": [
       "{'0x739f2fbe73b39319a3b582b6f1ea6f85a5b97f9e385961c06e7e0c8b6c124f1f': '0x7bf7f148c5182b5a91a138eb0270834f5f3dd25d5823b900259b427def54eb2a',\n",
       " '0x8de57837b523d2dd8c0f4e5ee1fda7e976ea9eeb171ff80297aa6ba9ff41158f': '0x8aa618d5972eef00f765d29382ab8d00ff9720d2d97c64f3b7a1ffa4fe144f2f',\n",
       " '0xd37dc467c8f40f2fd6892604e7cfd0aa1020d7bf86e153f435c99636b11c24a8': '0x9d2268159171a816bc9d6c2487880f9c6e1f4192951e9308a2a362c98392549d'}"
      ]
     },
     "execution_count": 20,
     "metadata": {},
     "output_type": "execute_result"
    }
   ],
   "source": [
    "dec_keys = {}\n",
    "for vv in vic_paid_addr.keys():\n",
    "    index = \"%064x\" % 5\n",
    "    index = vv[2:] + index\n",
    "    index = web3.sha3(hexstr=index)\n",
    "    dec_key = gs(escrow,int(index.hex(),16))\n",
    "    dec_keys[vv] = dec_key.hex()\n",
    "dec_keys"
   ]
  },
  {
   "cell_type": "markdown",
   "metadata": {},
   "source": [
    "### The rest of the Escrow datastructures\n",
    "\n",
    "From the source we see that the escrow contract also has two data structures called `escrowMap` and `encFileMap`. The comments say that these are for keeping track of amount of ransom received from the victim and the encrypted file sent with the ransom.   \n",
    "\n",
    "Let's look at their contents"
   ]
  },
  {
   "cell_type": "code",
   "execution_count": 21,
   "metadata": {},
   "outputs": [
    {
     "data": {
      "text/plain": [
       "{'0x58cc997ff6b6cff27c6dd2270709913a63d0be99ce40b0bbd78266cd02c95d8f': 0,\n",
       " '0x593a32f34377c6e4bb1b737a349bb9d73ab1200ff74885dee59170cb88319056': 0,\n",
       " '0x671538f3cbb58f0d532f24498241e019eeabc1fead783cf9565b635cf1241008': 0,\n",
       " '0x739f2fbe73b39319a3b582b6f1ea6f85a5b97f9e385961c06e7e0c8b6c124f1f': 0,\n",
       " '0x8d4e739e63b58576664c5b2ecd068e59322bb6109629b5798795bafdb1e14c9f': 0,\n",
       " '0x8de57837b523d2dd8c0f4e5ee1fda7e976ea9eeb171ff80297aa6ba9ff41158f': 0,\n",
       " '0xa059db461066052570e661a54d0bd5613b0244bfc94fa2c88a92bab76576e557': 0,\n",
       " '0xd0f2495ba15d13f347b5bb4f45650d843f64d213b1d4122698c2c29c6086c6da': 0,\n",
       " '0xd37dc467c8f40f2fd6892604e7cfd0aa1020d7bf86e153f435c99636b11c24a8': 0,\n",
       " '0xdcde9c6864cc9ff032253750917ae807fd67eda94b1e9a8029fa4abd10f9cda6': 0}"
      ]
     },
     "execution_count": 21,
     "metadata": {},
     "output_type": "execute_result"
    }
   ],
   "source": [
    "# Amount received\n",
    "esc_balance = {}\n",
    "for vv in vic_ids:\n",
    "    index = \"%064x\" % 7\n",
    "    index = vv[2:] + index\n",
    "    index = web3.sha3(hexstr=index)\n",
    "    dec_key = gs(escrow,int(index.hex(),16))\n",
    "    esc_balance[vv] = int(dec_key.hex(),16)\n",
    "esc_balance"
   ]
  },
  {
   "cell_type": "code",
   "execution_count": 22,
   "metadata": {},
   "outputs": [
    {
     "data": {
      "text/plain": [
       "{'0x58cc997ff6b6cff27c6dd2270709913a63d0be99ce40b0bbd78266cd02c95d8f': '0x0000000000000000000000000000000000000000000000000000000000000000',\n",
       " '0x593a32f34377c6e4bb1b737a349bb9d73ab1200ff74885dee59170cb88319056': '0x0000000000000000000000000000000000000000000000000000000000000000',\n",
       " '0x671538f3cbb58f0d532f24498241e019eeabc1fead783cf9565b635cf1241008': '0x0000000000000000000000000000000000000000000000000000000000000000',\n",
       " '0x739f2fbe73b39319a3b582b6f1ea6f85a5b97f9e385961c06e7e0c8b6c124f1f': '0x0000000000000000000000000000000000000000000000000000000000000000',\n",
       " '0x8d4e739e63b58576664c5b2ecd068e59322bb6109629b5798795bafdb1e14c9f': '0x0000000000000000000000000000000000000000000000000000000000000000',\n",
       " '0x8de57837b523d2dd8c0f4e5ee1fda7e976ea9eeb171ff80297aa6ba9ff41158f': '0x0000000000000000000000000000000000000000000000000000000000000000',\n",
       " '0xa059db461066052570e661a54d0bd5613b0244bfc94fa2c88a92bab76576e557': '0x0000000000000000000000000000000000000000000000000000000000000000',\n",
       " '0xd0f2495ba15d13f347b5bb4f45650d843f64d213b1d4122698c2c29c6086c6da': '0x0000000000000000000000000000000000000000000000000000000000000000',\n",
       " '0xd37dc467c8f40f2fd6892604e7cfd0aa1020d7bf86e153f435c99636b11c24a8': '0x0000000000000000000000000000000000000000000000000000000000000000',\n",
       " '0xdcde9c6864cc9ff032253750917ae807fd67eda94b1e9a8029fa4abd10f9cda6': '0x0000000000000000000000000000000000000000000000000000000000000000'}"
      ]
     },
     "execution_count": 22,
     "metadata": {},
     "output_type": "execute_result"
    }
   ],
   "source": [
    "# Encrypted file map\n",
    "enc_file_map = {}\n",
    "for vv in vic_ids:\n",
    "    index = \"%064x\" % 8\n",
    "    index = vv[2:] + index\n",
    "    index = web3.sha3(hexstr=index)\n",
    "    enc_file = gs(escrow,int(index.hex(),16))\n",
    "    enc_file_map[vv] = enc_file.hex()\n",
    "enc_file_map"
   ]
  },
  {
   "cell_type": "markdown",
   "metadata": {},
   "source": [
    "These seem to be empty... let's take a note of that and move on"
   ]
  },
  {
   "cell_type": "markdown",
   "metadata": {},
   "source": [
    "# Examine Registry\n",
    "\n",
    "Now let's look at the data stored in the registry contract "
   ]
  },
  {
   "cell_type": "code",
   "execution_count": 23,
   "metadata": {},
   "outputs": [
    {
     "data": {
      "text/plain": [
       "'0xE4F2555B638Ce2E8df8A3E5DB32EDE37D4698231'"
      ]
     },
     "execution_count": 23,
     "metadata": {},
     "output_type": "execute_result"
    }
   ],
   "source": [
    "r_owner = addr(gs(registry, 1))   ## Owner address\n",
    "r_owner"
   ]
  },
  {
   "cell_type": "code",
   "execution_count": 24,
   "metadata": {},
   "outputs": [
    {
     "data": {
      "text/plain": [
       "50502"
      ]
     },
     "execution_count": 24,
     "metadata": {},
     "output_type": "execute_result"
    }
   ],
   "source": [
    "victim_count = int(gs(registry, 2).hex(),16) ## How many victims\n",
    "victim_count"
   ]
  },
  {
   "cell_type": "code",
   "execution_count": 25,
   "metadata": {},
   "outputs": [
    {
     "data": {
      "text/plain": [
       "'0x191B13d28Df6b574275405e485dfC0F6794AD831'"
      ]
     },
     "execution_count": 25,
     "metadata": {},
     "output_type": "execute_result"
    }
   ],
   "source": [
    "r_oracle = addr(gs(registry, 3))  ## Oracle's address\n",
    "r_oracle"
   ]
  },
  {
   "cell_type": "code",
   "execution_count": 26,
   "metadata": {},
   "outputs": [
    {
     "data": {
      "text/plain": [
       "268435715"
      ]
     },
     "execution_count": 26,
     "metadata": {},
     "output_type": "execute_result"
    }
   ],
   "source": [
    "pending_auth = int(gs(registry, 5).hex(),16)  ## Number of pending auth\n",
    "pending_auth"
   ]
  },
  {
   "cell_type": "markdown",
   "metadata": {},
   "source": [
    "The above number is pretty high.  Turns out there is a bug in the registry that makes this number increase forever"
   ]
  },
  {
   "cell_type": "code",
   "execution_count": 27,
   "metadata": {},
   "outputs": [
    {
     "data": {
      "text/plain": [
       "0"
      ]
     },
     "execution_count": 27,
     "metadata": {},
     "output_type": "execute_result"
    }
   ],
   "source": [
    "max_pending_auth = int(gs(registry, 6).hex(),16)  # Max Pending Authentication\n",
    "max_pending_auth"
   ]
  },
  {
   "cell_type": "markdown",
   "metadata": {},
   "source": [
    "Due to the bug above,  looks like they have disabled the throttling mechanism"
   ]
  },
  {
   "cell_type": "markdown",
   "metadata": {},
   "source": [
    "### Larger data structures"
   ]
  },
  {
   "cell_type": "markdown",
   "metadata": {},
   "source": [
    "Now let's take a look at the larger data structures.  `vic_map` and `vic_auth_map`"
   ]
  },
  {
   "cell_type": "code",
   "execution_count": 28,
   "metadata": {},
   "outputs": [
    {
     "data": {
      "text/html": [
       "<div>\n",
       "<table border=\"1\" class=\"dataframe\">\n",
       "  <thead>\n",
       "    <tr style=\"text-align: right;\">\n",
       "      <th></th>\n",
       "      <th>escrow_addr</th>\n",
       "      <th>ransom_addr</th>\n",
       "    </tr>\n",
       "  </thead>\n",
       "  <tbody>\n",
       "    <tr>\n",
       "      <th>0x58cc997ff6b6cff27c6dd2270709913a63d0be99ce40b0bbd78266cd02c95d8f</th>\n",
       "      <td>0x2268A64F65318bCDdFef1A799c61c1E3073FeDa5</td>\n",
       "      <td>0xc09812b25cbeBC4D688696e541Ce5E8C410380BF</td>\n",
       "    </tr>\n",
       "    <tr>\n",
       "      <th>0x593a32f34377c6e4bb1b737a349bb9d73ab1200ff74885dee59170cb88319056</th>\n",
       "      <td>0x2268A64F65318bCDdFef1A799c61c1E3073FeDa5</td>\n",
       "      <td>0x049515Ef597Ce9F2237eCB3Fa9c15bFad2BCAd90</td>\n",
       "    </tr>\n",
       "    <tr>\n",
       "      <th>0x671538f3cbb58f0d532f24498241e019eeabc1fead783cf9565b635cf1241008</th>\n",
       "      <td>0x2268A64F65318bCDdFef1A799c61c1E3073FeDa5</td>\n",
       "      <td>0xdC782dBd6aAB2BE81f884F81130Cf70Cc3bDEcb6</td>\n",
       "    </tr>\n",
       "    <tr>\n",
       "      <th>0x739f2fbe73b39319a3b582b6f1ea6f85a5b97f9e385961c06e7e0c8b6c124f1f</th>\n",
       "      <td>0x2268A64F65318bCDdFef1A799c61c1E3073FeDa5</td>\n",
       "      <td>0xBC8794A37A428b86542A587c047A01cd18B9D826</td>\n",
       "    </tr>\n",
       "    <tr>\n",
       "      <th>0x8d4e739e63b58576664c5b2ecd068e59322bb6109629b5798795bafdb1e14c9f</th>\n",
       "      <td>0x2268A64F65318bCDdFef1A799c61c1E3073FeDa5</td>\n",
       "      <td>0xc6dE5B74d100168Bf368F63fd1cfd0B46B2A8772</td>\n",
       "    </tr>\n",
       "    <tr>\n",
       "      <th>0x8de57837b523d2dd8c0f4e5ee1fda7e976ea9eeb171ff80297aa6ba9ff41158f</th>\n",
       "      <td>0x2268A64F65318bCDdFef1A799c61c1E3073FeDa5</td>\n",
       "      <td>0x71480981B2FaE54c5430Ba69bCBB41496a879C84</td>\n",
       "    </tr>\n",
       "    <tr>\n",
       "      <th>0xa059db461066052570e661a54d0bd5613b0244bfc94fa2c88a92bab76576e557</th>\n",
       "      <td>0x2268A64F65318bCDdFef1A799c61c1E3073FeDa5</td>\n",
       "      <td>0x592cbD96f1209Da30518110ec036F864Eeed0C4D</td>\n",
       "    </tr>\n",
       "    <tr>\n",
       "      <th>0xd0f2495ba15d13f347b5bb4f45650d843f64d213b1d4122698c2c29c6086c6da</th>\n",
       "      <td>0x2268A64F65318bCDdFef1A799c61c1E3073FeDa5</td>\n",
       "      <td>0xc188D7c8FE22D73c014cE57DBa6096fEa419ABC2</td>\n",
       "    </tr>\n",
       "    <tr>\n",
       "      <th>0xd37dc467c8f40f2fd6892604e7cfd0aa1020d7bf86e153f435c99636b11c24a8</th>\n",
       "      <td>0x2268A64F65318bCDdFef1A799c61c1E3073FeDa5</td>\n",
       "      <td>0xA6D7FF4A4e4480c009c32F28981a8ac64943c006</td>\n",
       "    </tr>\n",
       "    <tr>\n",
       "      <th>0xdcde9c6864cc9ff032253750917ae807fd67eda94b1e9a8029fa4abd10f9cda6</th>\n",
       "      <td>0x2268A64F65318bCDdFef1A799c61c1E3073FeDa5</td>\n",
       "      <td>0xd95028DdB9bef50b78256D9053CBdB92cCe9fEeA</td>\n",
       "    </tr>\n",
       "  </tbody>\n",
       "</table>\n",
       "</div>"
      ],
      "text/plain": [
       "                                                                                   escrow_addr  \\\n",
       "0x58cc997ff6b6cff27c6dd2270709913a63d0be99ce40b...  0x2268A64F65318bCDdFef1A799c61c1E3073FeDa5   \n",
       "0x593a32f34377c6e4bb1b737a349bb9d73ab1200ff7488...  0x2268A64F65318bCDdFef1A799c61c1E3073FeDa5   \n",
       "0x671538f3cbb58f0d532f24498241e019eeabc1fead783...  0x2268A64F65318bCDdFef1A799c61c1E3073FeDa5   \n",
       "0x739f2fbe73b39319a3b582b6f1ea6f85a5b97f9e38596...  0x2268A64F65318bCDdFef1A799c61c1E3073FeDa5   \n",
       "0x8d4e739e63b58576664c5b2ecd068e59322bb6109629b...  0x2268A64F65318bCDdFef1A799c61c1E3073FeDa5   \n",
       "0x8de57837b523d2dd8c0f4e5ee1fda7e976ea9eeb171ff...  0x2268A64F65318bCDdFef1A799c61c1E3073FeDa5   \n",
       "0xa059db461066052570e661a54d0bd5613b0244bfc94fa...  0x2268A64F65318bCDdFef1A799c61c1E3073FeDa5   \n",
       "0xd0f2495ba15d13f347b5bb4f45650d843f64d213b1d41...  0x2268A64F65318bCDdFef1A799c61c1E3073FeDa5   \n",
       "0xd37dc467c8f40f2fd6892604e7cfd0aa1020d7bf86e15...  0x2268A64F65318bCDdFef1A799c61c1E3073FeDa5   \n",
       "0xdcde9c6864cc9ff032253750917ae807fd67eda94b1e9...  0x2268A64F65318bCDdFef1A799c61c1E3073FeDa5   \n",
       "\n",
       "                                                                                   ransom_addr  \n",
       "0x58cc997ff6b6cff27c6dd2270709913a63d0be99ce40b...  0xc09812b25cbeBC4D688696e541Ce5E8C410380BF  \n",
       "0x593a32f34377c6e4bb1b737a349bb9d73ab1200ff7488...  0x049515Ef597Ce9F2237eCB3Fa9c15bFad2BCAd90  \n",
       "0x671538f3cbb58f0d532f24498241e019eeabc1fead783...  0xdC782dBd6aAB2BE81f884F81130Cf70Cc3bDEcb6  \n",
       "0x739f2fbe73b39319a3b582b6f1ea6f85a5b97f9e38596...  0xBC8794A37A428b86542A587c047A01cd18B9D826  \n",
       "0x8d4e739e63b58576664c5b2ecd068e59322bb6109629b...  0xc6dE5B74d100168Bf368F63fd1cfd0B46B2A8772  \n",
       "0x8de57837b523d2dd8c0f4e5ee1fda7e976ea9eeb171ff...  0x71480981B2FaE54c5430Ba69bCBB41496a879C84  \n",
       "0xa059db461066052570e661a54d0bd5613b0244bfc94fa...  0x592cbD96f1209Da30518110ec036F864Eeed0C4D  \n",
       "0xd0f2495ba15d13f347b5bb4f45650d843f64d213b1d41...  0xc188D7c8FE22D73c014cE57DBa6096fEa419ABC2  \n",
       "0xd37dc467c8f40f2fd6892604e7cfd0aa1020d7bf86e15...  0xA6D7FF4A4e4480c009c32F28981a8ac64943c006  \n",
       "0xdcde9c6864cc9ff032253750917ae807fd67eda94b1e9...  0xd95028DdB9bef50b78256D9053CBdB92cCe9fEeA  "
      ]
     },
     "execution_count": 28,
     "metadata": {},
     "output_type": "execute_result"
    }
   ],
   "source": [
    "rg_vic_map = {}\n",
    "for vv in vic_ids:\n",
    "    index = \"%064x\" % 0\n",
    "    index = vv[2:] + index\n",
    "    index = web3.sha3(hexstr=index)\n",
    "    mmb = [gs(registry,int(index.hex(),16)+i) for i in range(0,3)]\n",
    "    mmb = (mmb[0].hex(),addr(mmb[1]),addr(mmb[2]))\n",
    "    rg_vic_map[mmb[0]] = {'escrow_addr':mmb[2],'ransom_addr':mmb[1]}\n",
    "rg_vic_map_df = pd.DataFrame.from_dict(rg_vic_map,orient='index')\n",
    "rg_vic_map_df"
   ]
  },
  {
   "cell_type": "markdown",
   "metadata": {},
   "source": [
    "Looks like `vic_map` maintains linkage between *Escrow* and *Ransom* contracts"
   ]
  },
  {
   "cell_type": "code",
   "execution_count": 29,
   "metadata": {},
   "outputs": [
    {
     "data": {
      "text/html": [
       "<div>\n",
       "<table border=\"1\" class=\"dataframe\">\n",
       "  <thead>\n",
       "    <tr style=\"text-align: right;\">\n",
       "      <th></th>\n",
       "      <th>escrow_addr</th>\n",
       "      <th>ransom_addr</th>\n",
       "    </tr>\n",
       "  </thead>\n",
       "  <tbody>\n",
       "    <tr>\n",
       "      <th>0x0000000000000000000000000000000000000000000000000000000000000000</th>\n",
       "      <td>0x0000000000000000000000000000000000000000</td>\n",
       "      <td>0x0000000000000000000000000000000000000000</td>\n",
       "    </tr>\n",
       "  </tbody>\n",
       "</table>\n",
       "</div>"
      ],
      "text/plain": [
       "                                                                                   escrow_addr  \\\n",
       "0x000000000000000000000000000000000000000000000...  0x0000000000000000000000000000000000000000   \n",
       "\n",
       "                                                                                   ransom_addr  \n",
       "0x000000000000000000000000000000000000000000000...  0x0000000000000000000000000000000000000000  "
      ]
     },
     "execution_count": 29,
     "metadata": {},
     "output_type": "execute_result"
    }
   ],
   "source": [
    "rg_vic_auth_map = {}\n",
    "my_vicids = [\n",
    "    '0xdcde9c6864cc9ff032253750917ae807fd67eda94b1e9a8029fa4abd10f9cda6',\n",
    "    '0x8de57837b523d2dd8c0f4e5ee1fda7e976ea9eeb171ff80297aa6ba9ff41158f',\n",
    "    '0x671538f3cbb58f0d532f24498241e019eeabc1fead783cf9565b635cf1241008'\n",
    "]\n",
    "for vv in my_vicids:\n",
    "    index = \"%064x\" % 4\n",
    "    index = vv[2:] + index\n",
    "    index = web3.sha3(hexstr=index)\n",
    "    mmb = [gs(registry,int(index.hex(),16)+i) for i in range(0,3)]\n",
    "    mmb = (mmb[0].hex(),addr(mmb[1]),addr(mmb[2]))\n",
    "    rg_vic_auth_map[mmb[0]] = {'escrow_addr':mmb[2],'ransom_addr':mmb[1]}\n",
    "rg_vic_auth_map_df = pd.DataFrame.from_dict(rg_vic_auth_map,orient='index')\n",
    "rg_vic_auth_map_df"
   ]
  },
  {
   "cell_type": "markdown",
   "metadata": {},
   "source": [
    "`vic_auth_map` temporarily holds *Ransom* to *Escrow* linkage until it has been confirmed by off the chain oracle"
   ]
  },
  {
   "cell_type": "markdown",
   "metadata": {
    "collapsed": true
   },
   "source": [
    "# Examine accounts"
   ]
  },
  {
   "cell_type": "markdown",
   "metadata": {},
   "source": [
    "Let's look at the balances of the accounts associated with the victims"
   ]
  },
  {
   "cell_type": "code",
   "execution_count": 30,
   "metadata": {},
   "outputs": [
    {
     "data": {
      "text/plain": [
       "{'0x146676783d93d8b7CFd3AF243B74dd406f38EcD4': 125.0,\n",
       " '0x27cBF212B3de98719bC5FB682bB0f8383e8177E4': 25.0,\n",
       " '0x50AF09c4820c8f29E7c13E524d4AE62c11C364b7': 125.0,\n",
       " '0x5156262D2a917bB2856D6164d67BcF12dc1ABd5B': 125.0,\n",
       " '0xA72e9A9Bd21aA74C8857625CfC0C9082d477d6Fa': 125.0,\n",
       " '0xa411DF1aE52E324cb3A123bf4888233024926CFd': 24.989310376,\n",
       " '0xd8742509518b95183CFf255E38A5a0685C1FBf52': 125.0,\n",
       " '0xd8b09121DF17d2C622E47c1C83D8022bc4a66A5D': 125.0,\n",
       " '0xfACc57958A577003EADA8b8Ff9794FC1535D38dC': 24.989310376,\n",
       " '0xfcECA7d3bF63D243fc885B8f53526Ff5ed891eb4': 24.989310376}"
      ]
     },
     "execution_count": 30,
     "metadata": {},
     "output_type": "execute_result"
    }
   ],
   "source": [
    "{a:gb(a)/(10**18) for a in list(vic_map_df.victim_addr.values)}"
   ]
  },
  {
   "cell_type": "markdown",
   "metadata": {},
   "source": [
    "We see that most victims who havent' paid the ransom yet have a balance of 125 ETH.  The vicitm's who did pay, have their account balances reduced by 100 ether plus some small amount of gas money.  Our account has only 25 ETH so we can't pay the ransom, we have to exploit the blockchain to get our decryption key out of it"
   ]
  },
  {
   "cell_type": "markdown",
   "metadata": {},
   "source": [
    "Let's check how many transactions were performed by each victim"
   ]
  },
  {
   "cell_type": "code",
   "execution_count": 31,
   "metadata": {},
   "outputs": [
    {
     "data": {
      "text/plain": [
       "{'0x146676783d93d8b7CFd3AF243B74dd406f38EcD4': 0,\n",
       " '0x27cBF212B3de98719bC5FB682bB0f8383e8177E4': 0,\n",
       " '0x50AF09c4820c8f29E7c13E524d4AE62c11C364b7': 0,\n",
       " '0x5156262D2a917bB2856D6164d67BcF12dc1ABd5B': 0,\n",
       " '0xA72e9A9Bd21aA74C8857625CfC0C9082d477d6Fa': 0,\n",
       " '0xa411DF1aE52E324cb3A123bf4888233024926CFd': 1,\n",
       " '0xd8742509518b95183CFf255E38A5a0685C1FBf52': 0,\n",
       " '0xd8b09121DF17d2C622E47c1C83D8022bc4a66A5D': 0,\n",
       " '0xfACc57958A577003EADA8b8Ff9794FC1535D38dC': 1,\n",
       " '0xfcECA7d3bF63D243fc885B8f53526Ff5ed891eb4': 1}"
      ]
     },
     "execution_count": 31,
     "metadata": {},
     "output_type": "execute_result"
    }
   ],
   "source": [
    "{a:web3.eth.getTransactionCount(a) for a in list(vic_map_df.victim_addr.values)}"
   ]
  },
  {
   "cell_type": "markdown",
   "metadata": {},
   "source": [
    "Again we see that the accounts who paid executed one transaction on the blockchain and the rest didn't do anything "
   ]
  },
  {
   "cell_type": "markdown",
   "metadata": {},
   "source": [
    "Let's check transaction count by the Attackers accounts"
   ]
  },
  {
   "cell_type": "code",
   "execution_count": 32,
   "metadata": {},
   "outputs": [
    {
     "data": {
      "text/plain": [
       "(1, 1, 253205, 55000, 7)"
      ]
     },
     "execution_count": 32,
     "metadata": {},
     "output_type": "execute_result"
    }
   ],
   "source": [
    "(web3.eth.getTransactionCount(escrow),\n",
    " web3.eth.getTransactionCount(registry),\n",
    " web3.eth.getTransactionCount(oracle), \n",
    " web3.eth.getTransactionCount(owner), \n",
    " web3.eth.getTransactionCount(r_owner))"
   ]
  },
  {
   "cell_type": "markdown",
   "metadata": {},
   "source": [
    "We see that escrow and registry contracts have only one transaction posted by them.  That's when these contracts were first created.  And oracle and owner have a lot of transactions posted.  These snipped will be useful for us later on"
   ]
  },
  {
   "cell_type": "markdown",
   "metadata": {},
   "source": [
    "# Blockchain events"
   ]
  },
  {
   "cell_type": "markdown",
   "metadata": {},
   "source": [
    "In addition to contract storage an balances there is another important part of the blockchain data, the logged events.\n",
    "Logged events are pieces of data written to the blockchain when contract executes 'emit' statement.  Unlike contract storage variables,  the values the events do not overwrite their data. So we can query the blockchain for all the events emitted by the contract"
   ]
  },
  {
   "cell_type": "markdown",
   "metadata": {},
   "source": [
    "First we need to load the compiled code for our contracts"
   ]
  },
  {
   "cell_type": "code",
   "execution_count": 33,
   "metadata": {},
   "outputs": [],
   "source": [
    "escrowCode = load_contract(web3, 'escrow')\n",
    "ransomCode = load_contract(web3, 'ransom')\n",
    "registryCode = load_contract(web3, 'registry')"
   ]
  },
  {
   "cell_type": "markdown",
   "metadata": {},
   "source": [
    "Once we have the compiled code we can query the blockchain for the events emitted by contracts"
   ]
  },
  {
   "cell_type": "markdown",
   "metadata": {},
   "source": [
    "### Auth events from registry\n",
    "\n",
    "When new Ransom contract is created it requests registry to attach it to the Escrow.  The Registry contract in turn posts an *AuthEvent* to the blockchain, and waits for the response to it from the oracle.   Let's take a look at some of  these  events"
   ]
  },
  {
   "cell_type": "code",
   "execution_count": 34,
   "metadata": {},
   "outputs": [],
   "source": [
    "flt = registryCode.events.AuthEvent.createFilter(fromBlock=1747955,toBlock=web3.eth.blockNumber)\n",
    "ent = flt.get_all_entries()\n",
    "ent = ent[:10]"
   ]
  },
  {
   "cell_type": "code",
   "execution_count": 35,
   "metadata": {},
   "outputs": [
    {
     "data": {
      "text/html": [
       "<div>\n",
       "<table border=\"1\" class=\"dataframe\">\n",
       "  <thead>\n",
       "    <tr style=\"text-align: right;\">\n",
       "      <th></th>\n",
       "      <th>ransom</th>\n",
       "      <th>OTP</th>\n",
       "      <th>ts</th>\n",
       "      <th>block</th>\n",
       "      <th>tidx</th>\n",
       "      <th>id</th>\n",
       "      <th>origin</th>\n",
       "    </tr>\n",
       "  </thead>\n",
       "  <tbody>\n",
       "    <tr>\n",
       "      <th>0</th>\n",
       "      <td>0xA20A4Ed8c997668f8D9947F4C414D035A81B6be1</td>\n",
       "      <td>668748</td>\n",
       "      <td>2018-12-31 05:50:50</td>\n",
       "      <td>1748035</td>\n",
       "      <td>0</td>\n",
       "      <td>f63133962cabe6c46373d552dc8ae2930987f559fb70ea...</td>\n",
       "      <td>0xC48F3e7De3bf905660EDd42C41E460555CefE2fE</td>\n",
       "    </tr>\n",
       "    <tr>\n",
       "      <th>1</th>\n",
       "      <td>0x1E6a301A8f9Fd1400a65b3465CEfFb12746E40b6</td>\n",
       "      <td>551095</td>\n",
       "      <td>2018-12-31 06:01:49</td>\n",
       "      <td>1748160</td>\n",
       "      <td>0</td>\n",
       "      <td>f63133962cabe6c46373d552dc8ae2930987f559fb70ea...</td>\n",
       "      <td>0xC48F3e7De3bf905660EDd42C41E460555CefE2fE</td>\n",
       "    </tr>\n",
       "    <tr>\n",
       "      <th>2</th>\n",
       "      <td>0x9f6a7320bD0b3717d25Ea85f4B96c2ebaA12CC7a</td>\n",
       "      <td>63527</td>\n",
       "      <td>2018-12-31 06:05:50</td>\n",
       "      <td>1748205</td>\n",
       "      <td>0</td>\n",
       "      <td>b784c8325a15d7b7d62d4ded79b86b08fd0cbc8ed0099f...</td>\n",
       "      <td>0xC48F3e7De3bf905660EDd42C41E460555CefE2fE</td>\n",
       "    </tr>\n",
       "    <tr>\n",
       "      <th>3</th>\n",
       "      <td>0x78b24e154827822313EEc48E06eefAC47296bca3</td>\n",
       "      <td>381712</td>\n",
       "      <td>2018-12-31 21:14:46</td>\n",
       "      <td>1758443</td>\n",
       "      <td>0</td>\n",
       "      <td>b784c8325a15d7b7d62d4ded79b86b08fd0cbc8ed0099f...</td>\n",
       "      <td>0xC48F3e7De3bf905660EDd42C41E460555CefE2fE</td>\n",
       "    </tr>\n",
       "    <tr>\n",
       "      <th>4</th>\n",
       "      <td>0xBa94bC8dd2201344a0c3A4276427AB2F80d434c7</td>\n",
       "      <td>762801</td>\n",
       "      <td>2019-01-02 01:47:14</td>\n",
       "      <td>1777721</td>\n",
       "      <td>0</td>\n",
       "      <td>691044a169e7fdda738ba4c7cc6d31b88d298546a326b7...</td>\n",
       "      <td>0x734eF4152bC53fC4559709BF11267F251e7531Aa</td>\n",
       "    </tr>\n",
       "    <tr>\n",
       "      <th>5</th>\n",
       "      <td>0x7DEE6f4CB1167FaAF5c22d2cCe09d8C5F521F0EC</td>\n",
       "      <td>356934</td>\n",
       "      <td>2019-01-02 06:55:12</td>\n",
       "      <td>1781190</td>\n",
       "      <td>0</td>\n",
       "      <td>691044a169e7fdda738ba4c7cc6d31b88d298546a326b7...</td>\n",
       "      <td>0x734eF4152bC53fC4559709BF11267F251e7531Aa</td>\n",
       "    </tr>\n",
       "    <tr>\n",
       "      <th>6</th>\n",
       "      <td>0xF08803AeEdE010e5A3cCE741819b8073208f9002</td>\n",
       "      <td>637175</td>\n",
       "      <td>2019-01-02 21:29:22</td>\n",
       "      <td>1791047</td>\n",
       "      <td>0</td>\n",
       "      <td>691044a169e7fdda738ba4c7cc6d31b88d298546a326b7...</td>\n",
       "      <td>0x734eF4152bC53fC4559709BF11267F251e7531Aa</td>\n",
       "    </tr>\n",
       "    <tr>\n",
       "      <th>7</th>\n",
       "      <td>0x8e618127e04550598Db4508F5f3A138CF6446Ca8</td>\n",
       "      <td>981744</td>\n",
       "      <td>2019-01-02 23:58:47</td>\n",
       "      <td>1792733</td>\n",
       "      <td>0</td>\n",
       "      <td>691044a169e7fdda738ba4c7cc6d31b88d298546a326b7...</td>\n",
       "      <td>0x734eF4152bC53fC4559709BF11267F251e7531Aa</td>\n",
       "    </tr>\n",
       "    <tr>\n",
       "      <th>8</th>\n",
       "      <td>0x0c910A037fC1fD8e057601f402595389FeEF5b8D</td>\n",
       "      <td>123703</td>\n",
       "      <td>2019-01-03 21:50:01</td>\n",
       "      <td>1807502</td>\n",
       "      <td>0</td>\n",
       "      <td>4c326dd7b5efb8b3615574b92502f997954f2f54e7c7f2...</td>\n",
       "      <td>0x13495A46D4de87020753e3178462044672513e7a</td>\n",
       "    </tr>\n",
       "    <tr>\n",
       "      <th>9</th>\n",
       "      <td>0x516008e8Db8CD5DC4D9784327C4b5F0890DF2287</td>\n",
       "      <td>825839</td>\n",
       "      <td>2019-01-03 22:12:31</td>\n",
       "      <td>1807755</td>\n",
       "      <td>0</td>\n",
       "      <td>15a01377585945e907654c4dba844944dad5206f998d09...</td>\n",
       "      <td>0x13495A46D4de87020753e3178462044672513e7a</td>\n",
       "    </tr>\n",
       "  </tbody>\n",
       "</table>\n",
       "</div>"
      ],
      "text/plain": [
       "                                       ransom     OTP                  ts  \\\n",
       "0  0xA20A4Ed8c997668f8D9947F4C414D035A81B6be1  668748 2018-12-31 05:50:50   \n",
       "1  0x1E6a301A8f9Fd1400a65b3465CEfFb12746E40b6  551095 2018-12-31 06:01:49   \n",
       "2  0x9f6a7320bD0b3717d25Ea85f4B96c2ebaA12CC7a   63527 2018-12-31 06:05:50   \n",
       "3  0x78b24e154827822313EEc48E06eefAC47296bca3  381712 2018-12-31 21:14:46   \n",
       "4  0xBa94bC8dd2201344a0c3A4276427AB2F80d434c7  762801 2019-01-02 01:47:14   \n",
       "5  0x7DEE6f4CB1167FaAF5c22d2cCe09d8C5F521F0EC  356934 2019-01-02 06:55:12   \n",
       "6  0xF08803AeEdE010e5A3cCE741819b8073208f9002  637175 2019-01-02 21:29:22   \n",
       "7  0x8e618127e04550598Db4508F5f3A138CF6446Ca8  981744 2019-01-02 23:58:47   \n",
       "8  0x0c910A037fC1fD8e057601f402595389FeEF5b8D  123703 2019-01-03 21:50:01   \n",
       "9  0x516008e8Db8CD5DC4D9784327C4b5F0890DF2287  825839 2019-01-03 22:12:31   \n",
       "\n",
       "     block  tidx                                                 id  \\\n",
       "0  1748035     0  f63133962cabe6c46373d552dc8ae2930987f559fb70ea...   \n",
       "1  1748160     0  f63133962cabe6c46373d552dc8ae2930987f559fb70ea...   \n",
       "2  1748205     0  b784c8325a15d7b7d62d4ded79b86b08fd0cbc8ed0099f...   \n",
       "3  1758443     0  b784c8325a15d7b7d62d4ded79b86b08fd0cbc8ed0099f...   \n",
       "4  1777721     0  691044a169e7fdda738ba4c7cc6d31b88d298546a326b7...   \n",
       "5  1781190     0  691044a169e7fdda738ba4c7cc6d31b88d298546a326b7...   \n",
       "6  1791047     0  691044a169e7fdda738ba4c7cc6d31b88d298546a326b7...   \n",
       "7  1792733     0  691044a169e7fdda738ba4c7cc6d31b88d298546a326b7...   \n",
       "8  1807502     0  4c326dd7b5efb8b3615574b92502f997954f2f54e7c7f2...   \n",
       "9  1807755     0  15a01377585945e907654c4dba844944dad5206f998d09...   \n",
       "\n",
       "                                       origin  \n",
       "0  0xC48F3e7De3bf905660EDd42C41E460555CefE2fE  \n",
       "1  0xC48F3e7De3bf905660EDd42C41E460555CefE2fE  \n",
       "2  0xC48F3e7De3bf905660EDd42C41E460555CefE2fE  \n",
       "3  0xC48F3e7De3bf905660EDd42C41E460555CefE2fE  \n",
       "4  0x734eF4152bC53fC4559709BF11267F251e7531Aa  \n",
       "5  0x734eF4152bC53fC4559709BF11267F251e7531Aa  \n",
       "6  0x734eF4152bC53fC4559709BF11267F251e7531Aa  \n",
       "7  0x734eF4152bC53fC4559709BF11267F251e7531Aa  \n",
       "8  0x13495A46D4de87020753e3178462044672513e7a  \n",
       "9  0x13495A46D4de87020753e3178462044672513e7a  "
      ]
     },
     "execution_count": 35,
     "metadata": {},
     "output_type": "execute_result"
    }
   ],
   "source": [
    "auth_events =  {n: {\n",
    "    'id':\"%x\" % e.args['id'],\n",
    "    'block': e.blockNumber,\n",
    "    'tidx': e.transactionIndex,\n",
    "    'origin': e.args['origin'],\n",
    "    'ts': datetime.utcfromtimestamp(web3.eth.getBlock(e.blockNumber)['timestamp']),\n",
    "    'ransom': e.args['ransomAddr'],\n",
    "    'OTP': e.args['authToken'] } for n,e in enumerate(ent) }\n",
    "auth_events_df = pd.DataFrame.from_dict(auth_events,orient='index')\n",
    "auth_events_df"
   ]
  },
  {
   "cell_type": "markdown",
   "metadata": {},
   "source": [
    "Now let's look at *AuthCallBack* events posted by the Registry when it receives AuthCallback call from the Oracle"
   ]
  },
  {
   "cell_type": "code",
   "execution_count": 36,
   "metadata": {},
   "outputs": [
    {
     "data": {
      "text/plain": [
       "20"
      ]
     },
     "execution_count": 36,
     "metadata": {},
     "output_type": "execute_result"
    }
   ],
   "source": [
    "flt = escrowCode.events.AuthCallbackEvent.createFilter(fromBlock=1747955,toBlock=web3.eth.blockNumber)\n",
    "ent = flt.get_all_entries()\n",
    "ent = ent[:20]\n",
    "len(ent)"
   ]
  },
  {
   "cell_type": "code",
   "execution_count": 37,
   "metadata": {},
   "outputs": [
    {
     "data": {
      "text/html": [
       "<div>\n",
       "<table border=\"1\" class=\"dataframe\">\n",
       "  <thead>\n",
       "    <tr style=\"text-align: right;\">\n",
       "      <th></th>\n",
       "      <th>ts</th>\n",
       "      <th>tx</th>\n",
       "      <th>result</th>\n",
       "      <th>id</th>\n",
       "      <th>blk</th>\n",
       "    </tr>\n",
       "  </thead>\n",
       "  <tbody>\n",
       "    <tr>\n",
       "      <th>0</th>\n",
       "      <td>2018-12-31 05:43:45</td>\n",
       "      <td>0</td>\n",
       "      <td>False</td>\n",
       "      <td>7ab926a9235011c8959e436024a12c3c0c1b118f0b77bc...</td>\n",
       "      <td>1747955</td>\n",
       "    </tr>\n",
       "    <tr>\n",
       "      <th>1</th>\n",
       "      <td>2018-12-31 06:05:51</td>\n",
       "      <td>0</td>\n",
       "      <td>True</td>\n",
       "      <td>b784c8325a15d7b7d62d4ded79b86b08fd0cbc8ed0099f...</td>\n",
       "      <td>1748206</td>\n",
       "    </tr>\n",
       "    <tr>\n",
       "      <th>2</th>\n",
       "      <td>2018-12-31 21:14:47</td>\n",
       "      <td>0</td>\n",
       "      <td>True</td>\n",
       "      <td>b784c8325a15d7b7d62d4ded79b86b08fd0cbc8ed0099f...</td>\n",
       "      <td>1758444</td>\n",
       "    </tr>\n",
       "    <tr>\n",
       "      <th>3</th>\n",
       "      <td>2019-01-02 01:47:15</td>\n",
       "      <td>0</td>\n",
       "      <td>True</td>\n",
       "      <td>691044a169e7fdda738ba4c7cc6d31b88d298546a326b7...</td>\n",
       "      <td>1777722</td>\n",
       "    </tr>\n",
       "    <tr>\n",
       "      <th>4</th>\n",
       "      <td>2019-01-02 06:55:13</td>\n",
       "      <td>0</td>\n",
       "      <td>True</td>\n",
       "      <td>691044a169e7fdda738ba4c7cc6d31b88d298546a326b7...</td>\n",
       "      <td>1781191</td>\n",
       "    </tr>\n",
       "    <tr>\n",
       "      <th>5</th>\n",
       "      <td>2019-01-02 21:29:23</td>\n",
       "      <td>0</td>\n",
       "      <td>True</td>\n",
       "      <td>691044a169e7fdda738ba4c7cc6d31b88d298546a326b7...</td>\n",
       "      <td>1791048</td>\n",
       "    </tr>\n",
       "    <tr>\n",
       "      <th>6</th>\n",
       "      <td>2019-01-02 23:58:48</td>\n",
       "      <td>0</td>\n",
       "      <td>True</td>\n",
       "      <td>691044a169e7fdda738ba4c7cc6d31b88d298546a326b7...</td>\n",
       "      <td>1792734</td>\n",
       "    </tr>\n",
       "    <tr>\n",
       "      <th>7</th>\n",
       "      <td>2019-01-04 00:25:00</td>\n",
       "      <td>0</td>\n",
       "      <td>False</td>\n",
       "      <td>b05d1d5c69459b0ef424a213f1c11d0afd53d070df8b69...</td>\n",
       "      <td>1809246</td>\n",
       "    </tr>\n",
       "    <tr>\n",
       "      <th>8</th>\n",
       "      <td>2019-01-04 00:40:53</td>\n",
       "      <td>0</td>\n",
       "      <td>False</td>\n",
       "      <td>b05d1d5c69459b0ef424a213f1c11d0afd53d070df8b69...</td>\n",
       "      <td>1809426</td>\n",
       "    </tr>\n",
       "    <tr>\n",
       "      <th>9</th>\n",
       "      <td>2019-01-04 00:49:41</td>\n",
       "      <td>0</td>\n",
       "      <td>False</td>\n",
       "      <td>b05d1d5c69459b0ef424a213f1c11d0afd53d070df8b69...</td>\n",
       "      <td>1809524</td>\n",
       "    </tr>\n",
       "    <tr>\n",
       "      <th>10</th>\n",
       "      <td>2019-01-04 00:55:14</td>\n",
       "      <td>0</td>\n",
       "      <td>True</td>\n",
       "      <td>b05d1d5c69459b0ef424a213f1c11d0afd53d070df8b69...</td>\n",
       "      <td>1809588</td>\n",
       "    </tr>\n",
       "    <tr>\n",
       "      <th>11</th>\n",
       "      <td>2019-01-04 01:03:11</td>\n",
       "      <td>0</td>\n",
       "      <td>True</td>\n",
       "      <td>b05d1d5c69459b0ef424a213f1c11d0afd53d070df8b69...</td>\n",
       "      <td>1809678</td>\n",
       "    </tr>\n",
       "    <tr>\n",
       "      <th>12</th>\n",
       "      <td>2019-01-04 01:21:12</td>\n",
       "      <td>0</td>\n",
       "      <td>True</td>\n",
       "      <td>b05d1d5c69459b0ef424a213f1c11d0afd53d070df8b69...</td>\n",
       "      <td>1809895</td>\n",
       "    </tr>\n",
       "    <tr>\n",
       "      <th>13</th>\n",
       "      <td>2019-01-04 01:33:12</td>\n",
       "      <td>0</td>\n",
       "      <td>True</td>\n",
       "      <td>b05d1d5c69459b0ef424a213f1c11d0afd53d070df8b69...</td>\n",
       "      <td>1810039</td>\n",
       "    </tr>\n",
       "    <tr>\n",
       "      <th>14</th>\n",
       "      <td>2019-01-04 03:01:12</td>\n",
       "      <td>0</td>\n",
       "      <td>True</td>\n",
       "      <td>b05d1d5c69459b0ef424a213f1c11d0afd53d070df8b69...</td>\n",
       "      <td>1811045</td>\n",
       "    </tr>\n",
       "    <tr>\n",
       "      <th>15</th>\n",
       "      <td>2019-01-04 17:23:12</td>\n",
       "      <td>0</td>\n",
       "      <td>True</td>\n",
       "      <td>b05d1d5c69459b0ef424a213f1c11d0afd53d070df8b69...</td>\n",
       "      <td>1820754</td>\n",
       "    </tr>\n",
       "    <tr>\n",
       "      <th>16</th>\n",
       "      <td>2019-01-04 21:43:40</td>\n",
       "      <td>0</td>\n",
       "      <td>True</td>\n",
       "      <td>b05d1d5c69459b0ef424a213f1c11d0afd53d070df8b69...</td>\n",
       "      <td>1823736</td>\n",
       "    </tr>\n",
       "    <tr>\n",
       "      <th>17</th>\n",
       "      <td>2019-01-05 22:56:40</td>\n",
       "      <td>0</td>\n",
       "      <td>True</td>\n",
       "      <td>1540ee1cb17f7e96dc0f4d61b2278b0ae6ba1e4a7dbcbf...</td>\n",
       "      <td>1840780</td>\n",
       "    </tr>\n",
       "    <tr>\n",
       "      <th>18</th>\n",
       "      <td>2019-01-06 00:27:22</td>\n",
       "      <td>0</td>\n",
       "      <td>True</td>\n",
       "      <td>1540ee1cb17f7e96dc0f4d61b2278b0ae6ba1e4a7dbcbf...</td>\n",
       "      <td>1841805</td>\n",
       "    </tr>\n",
       "    <tr>\n",
       "      <th>19</th>\n",
       "      <td>2019-01-06 05:06:21</td>\n",
       "      <td>0</td>\n",
       "      <td>True</td>\n",
       "      <td>47f8144abb520ee30954a292538701770a94af770bae85...</td>\n",
       "      <td>1844944</td>\n",
       "    </tr>\n",
       "  </tbody>\n",
       "</table>\n",
       "</div>"
      ],
      "text/plain": [
       "                    ts  tx result  \\\n",
       "0  2018-12-31 05:43:45   0  False   \n",
       "1  2018-12-31 06:05:51   0   True   \n",
       "2  2018-12-31 21:14:47   0   True   \n",
       "3  2019-01-02 01:47:15   0   True   \n",
       "4  2019-01-02 06:55:13   0   True   \n",
       "5  2019-01-02 21:29:23   0   True   \n",
       "6  2019-01-02 23:58:48   0   True   \n",
       "7  2019-01-04 00:25:00   0  False   \n",
       "8  2019-01-04 00:40:53   0  False   \n",
       "9  2019-01-04 00:49:41   0  False   \n",
       "10 2019-01-04 00:55:14   0   True   \n",
       "11 2019-01-04 01:03:11   0   True   \n",
       "12 2019-01-04 01:21:12   0   True   \n",
       "13 2019-01-04 01:33:12   0   True   \n",
       "14 2019-01-04 03:01:12   0   True   \n",
       "15 2019-01-04 17:23:12   0   True   \n",
       "16 2019-01-04 21:43:40   0   True   \n",
       "17 2019-01-05 22:56:40   0   True   \n",
       "18 2019-01-06 00:27:22   0   True   \n",
       "19 2019-01-06 05:06:21   0   True   \n",
       "\n",
       "                                                   id      blk  \n",
       "0   7ab926a9235011c8959e436024a12c3c0c1b118f0b77bc...  1747955  \n",
       "1   b784c8325a15d7b7d62d4ded79b86b08fd0cbc8ed0099f...  1748206  \n",
       "2   b784c8325a15d7b7d62d4ded79b86b08fd0cbc8ed0099f...  1758444  \n",
       "3   691044a169e7fdda738ba4c7cc6d31b88d298546a326b7...  1777722  \n",
       "4   691044a169e7fdda738ba4c7cc6d31b88d298546a326b7...  1781191  \n",
       "5   691044a169e7fdda738ba4c7cc6d31b88d298546a326b7...  1791048  \n",
       "6   691044a169e7fdda738ba4c7cc6d31b88d298546a326b7...  1792734  \n",
       "7   b05d1d5c69459b0ef424a213f1c11d0afd53d070df8b69...  1809246  \n",
       "8   b05d1d5c69459b0ef424a213f1c11d0afd53d070df8b69...  1809426  \n",
       "9   b05d1d5c69459b0ef424a213f1c11d0afd53d070df8b69...  1809524  \n",
       "10  b05d1d5c69459b0ef424a213f1c11d0afd53d070df8b69...  1809588  \n",
       "11  b05d1d5c69459b0ef424a213f1c11d0afd53d070df8b69...  1809678  \n",
       "12  b05d1d5c69459b0ef424a213f1c11d0afd53d070df8b69...  1809895  \n",
       "13  b05d1d5c69459b0ef424a213f1c11d0afd53d070df8b69...  1810039  \n",
       "14  b05d1d5c69459b0ef424a213f1c11d0afd53d070df8b69...  1811045  \n",
       "15  b05d1d5c69459b0ef424a213f1c11d0afd53d070df8b69...  1820754  \n",
       "16  b05d1d5c69459b0ef424a213f1c11d0afd53d070df8b69...  1823736  \n",
       "17  1540ee1cb17f7e96dc0f4d61b2278b0ae6ba1e4a7dbcbf...  1840780  \n",
       "18  1540ee1cb17f7e96dc0f4d61b2278b0ae6ba1e4a7dbcbf...  1841805  \n",
       "19  47f8144abb520ee30954a292538701770a94af770bae85...  1844944  "
      ]
     },
     "execution_count": 37,
     "metadata": {},
     "output_type": "execute_result"
    }
   ],
   "source": [
    "auth_cb_events =  {n: {\n",
    "    'id':\"%x\" % e.args['id'],\n",
    "    'result': e.args['result'],\n",
    "    'blk': e.blockNumber,\n",
    "    'ts': datetime.utcfromtimestamp(web3.eth.getBlock(e.blockNumber)['timestamp']),\n",
    "    'tx': e.transactionIndex} for n,e in enumerate(ent) }\n",
    "auth_cb_events\n",
    "auth_cb_events_df = pd.DataFrame.from_dict(auth_cb_events,orient='index')\n",
    "auth_cb_events_df"
   ]
  },
  {
   "cell_type": "markdown",
   "metadata": {},
   "source": [
    "Here we see that Oracle usually response to login events in the next block of the chain.  For examlpe look for the block 1791047 in the AuthEvent table and then look for the next consecutive block 1791048 in the table above"
   ]
  },
  {
   "cell_type": "code",
   "execution_count": null,
   "metadata": {
    "collapsed": true
   },
   "outputs": [],
   "source": []
  }
 ],
 "metadata": {
  "kernelspec": {
   "display_name": "Python 3",
   "language": "python",
   "name": "python3"
  },
  "language_info": {
   "codemirror_mode": {
    "name": "ipython",
    "version": 3
   },
   "file_extension": ".py",
   "mimetype": "text/x-python",
   "name": "python",
   "nbconvert_exporter": "python",
   "pygments_lexer": "ipython3",
   "version": "3.5.3"
  }
 },
 "nbformat": 4,
 "nbformat_minor": 2
}
